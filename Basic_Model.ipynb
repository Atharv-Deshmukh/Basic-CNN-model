{
  "nbformat": 4,
  "nbformat_minor": 0,
  "metadata": {
    "colab": {
      "name": "Basic Model.ipynb",
      "provenance": [],
      "collapsed_sections": []
    },
    "kernelspec": {
      "name": "python3",
      "display_name": "Python 3"
    }
  },
  "cells": [
    {
      "cell_type": "markdown",
      "metadata": {
        "id": "FRGFWA7p9Dvc",
        "colab_type": "text"
      },
      "source": [
        "**Building Basic Model**\n",
        "\n",
        "You can use this model for basic operation, you can try some more combinations to get more accurate output and faster operation the basic skeleton is given below"
      ]
    },
    {
      "cell_type": "markdown",
      "metadata": {
        "id": "j-VHqgps9gLA",
        "colab_type": "text"
      },
      "source": [
        "Including all the modules which we will be using"
      ]
    },
    {
      "cell_type": "code",
      "metadata": {
        "id": "S7SS0C6622kQ",
        "colab_type": "code",
        "colab": {}
      },
      "source": [
        "import tensorflow as tf\n",
        "from tensorflow.keras.optimizers import RMSprop\n",
        "from tensorflow.keras.preprocessing.image import ImageDataGenerator"
      ],
      "execution_count": null,
      "outputs": []
    },
    {
      "cell_type": "markdown",
      "metadata": {
        "id": "vDTepLzi9q65",
        "colab_type": "text"
      },
      "source": [
        "Giving training and validation directory"
      ]
    },
    {
      "cell_type": "code",
      "metadata": {
        "id": "KTJorx2i3auJ",
        "colab_type": "code",
        "colab": {}
      },
      "source": [
        "train_dir = ''\n",
        "test_dir = ''"
      ],
      "execution_count": null,
      "outputs": []
    },
    {
      "cell_type": "markdown",
      "metadata": {
        "id": "O9xB7vpL9vko",
        "colab_type": "text"
      },
      "source": [
        "Using data gnerator for augmentation"
      ]
    },
    {
      "cell_type": "code",
      "metadata": {
        "id": "La2scmEL3fIK",
        "colab_type": "code",
        "colab": {}
      },
      "source": [
        "#Data Generator\n",
        "\n",
        "#Performing some operations for more data from a single picture\n",
        "train_datagen = ImageDataGenerator(\n",
        "                                    rescale=1./255,\n",
        "                                    rotation_range=40,\n",
        "                                    width_shift_range=0.2,\n",
        "                                    height_shift_range=0.2,\n",
        "                                    shear_range=0.2,\n",
        "                                    zoom_range=0.2,\n",
        "                                    horizontal_flip=True,             #if you want to divide test and validation then add parameter: validation_split=0.2, 8-2 split\n",
        "                                    fill_mode='nearest')\n",
        "\n",
        "#We can provide same eefects to test datagen but no need as we are only testing data\n",
        "test_datagen = ImageDataGenerator(rescale=1./255)\n",
        "\n",
        "# Flow training images in batches of 20 using train_datagen generator\n",
        "train_generator = train_datagen.flow_from_directory(\n",
        "                          train_dir,               # This is the source directory for training images\n",
        "                          target_size=(150, 150),  # All images will be resized to 150x150\n",
        "                          batch_size=20,           # Since we use binary_crossentropy loss, we need binary labels\n",
        "                          class_mode='binary')     #For categorical use categorical in class mode\n",
        "                          #subset='training')      #set as training data in case you have added validation split in the datagen\n",
        "\n",
        "# Flow validation images in batches of 20 using test_datagen generator\n",
        "validation_generator = test_datagen.flow_from_directory(\n",
        "                          validation_dir,\n",
        "                          target_size=(150, 150),\n",
        "                          batch_size=20,\n",
        "                          class_mode='binary')\n",
        "                          #subset='validation')     #set as training data in case you have added validation split in the datagen\n",
        "\n"
      ],
      "execution_count": null,
      "outputs": []
    },
    {
      "cell_type": "markdown",
      "metadata": {
        "id": "lbF-tTS190pF",
        "colab_type": "text"
      },
      "source": [
        "Making our actual model"
      ]
    },
    {
      "cell_type": "code",
      "metadata": {
        "id": "2JYOgVDk4XVC",
        "colab_type": "code",
        "colab": {}
      },
      "source": [
        "#Model Making\n",
        "\n",
        "model = tf.keras.models.Sequential([\n",
        "    tf.keras.layers.Conv2D(32, (3,3), activation='relu', input_shape=(150, 150, 3)),    #Change the shape as your requirement\n",
        "    tf.keras.layers.MaxPooling2D(2, 2),\n",
        "    \n",
        "    tf.keras.layers.Conv2D(64, (3,3), activation='relu'),\n",
        "    tf.keras.layers.MaxPooling2D(2,2),\n",
        "    \n",
        "    tf.keras.layers.Conv2D(128, (3,3), activation='relu'),\n",
        "    tf.keras.layers.MaxPooling2D(2,2),\n",
        "    \n",
        "    tf.keras.layers.Conv2D(128, (3,3), activation='relu'),\n",
        "    tf.keras.layers.MaxPooling2D(2,2),\n",
        "    \n",
        "    tf.keras.layers.Dropout(0.2),                       #Helps to avoid overfitting of model by dropping some weights\n",
        "    \n",
        "    tf.keras.layers.Flatten(),\n",
        "    \n",
        "    tf.keras.layers.Dense(512, activation='relu'),\n",
        "    tf.keras.layers.Dense(1, activation='sigmoid')      #Sigmoid is used data is in binary form for categorical use softmax\n",
        "])\n",
        "\n",
        "\n",
        "#Compile Model\n",
        "\n",
        "model.compile(loss='binary_crossentropy',               #For categorical use categorical)crossentropy\n",
        "              optimizer=RMSprop(lr=1e-4),\n",
        "              metrics=['accuracy'])"
      ],
      "execution_count": null,
      "outputs": []
    },
    {
      "cell_type": "markdown",
      "metadata": {
        "id": "Px3p_iWU95nq",
        "colab_type": "text"
      },
      "source": [
        "Training our Data"
      ]
    },
    {
      "cell_type": "code",
      "metadata": {
        "id": "nHLxzomi6xXT",
        "colab_type": "code",
        "colab": {}
      },
      "source": [
        "history = model.fit(\n",
        "      train_generator,\n",
        "      steps_per_epoch=100,  #steps = total_image_train / batch_size\n",
        "      epochs=10,            #No of epochs\n",
        "      validation_data=validation_generator,\n",
        "      validation_steps=50)  #steps = total_image_test / batch_size"
      ],
      "execution_count": null,
      "outputs": []
    },
    {
      "cell_type": "markdown",
      "metadata": {
        "id": "KxmSdXKN-F1t",
        "colab_type": "text"
      },
      "source": [
        "After traning it is good to save our model "
      ]
    },
    {
      "cell_type": "code",
      "metadata": {
        "id": "rG0RMJrI9-PE",
        "colab_type": "code",
        "colab": {}
      },
      "source": [
        "#Save the model to use it later and to save time next time\n",
        "\n",
        "model.save(\"MyBasicModel.h5\")"
      ],
      "execution_count": null,
      "outputs": []
    },
    {
      "cell_type": "markdown",
      "metadata": {
        "id": "zimFfhss-QG4",
        "colab_type": "text"
      },
      "source": [
        "For Use this model later"
      ]
    },
    {
      "cell_type": "code",
      "metadata": {
        "id": "ZMxIAztG-TJH",
        "colab_type": "code",
        "colab": {}
      },
      "source": [
        "import h5py\n",
        "from tensorflow import keras\n",
        "\n",
        "model = keras.models.load_model('/MyBasicModel.h5')     #Give path to your model"
      ],
      "execution_count": null,
      "outputs": []
    },
    {
      "cell_type": "markdown",
      "metadata": {
        "id": "CE-hq-VO-r2c",
        "colab_type": "text"
      },
      "source": [
        "Now, we have prepared our model and we are now good to for predicting the image"
      ]
    },
    {
      "cell_type": "code",
      "metadata": {
        "id": "D-TcPQFc-2NT",
        "colab_type": "code",
        "colab": {}
      },
      "source": [
        "status = ['First','Second']   #Rename this as per you need eg. Cat or dog, house or hourse etc.\n",
        "\n",
        "path = ''   #Path to image which we want to predict\n",
        "\n",
        "img = image.load_img(path, target_size=(150, 150))\n",
        "\n",
        "x = image.img_to_array(img)       #tensorflow require image in array\n",
        "x = np.expand_dims(x, axis=0)     #dimmension of array should be 4 so we are expanding the dimmension o array\n",
        "\n",
        "output = model.predict(x)\n",
        "output = output[0][0]\n",
        "\n",
        "tag = int(output)\n",
        "\n",
        "print(status[tag])"
      ],
      "execution_count": null,
      "outputs": []
    }
  ]
}